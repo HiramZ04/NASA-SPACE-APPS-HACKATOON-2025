{
  "nbformat": 4,
  "nbformat_minor": 0,
  "metadata": {
    "colab": {
      "provenance": []
    },
    "kernelspec": {
      "name": "python3",
      "display_name": "Python 3"
    },
    "language_info": {
      "name": "python"
    }
  },
  "cells": [
    {
      "cell_type": "code",
      "execution_count": 143,
      "metadata": {
        "id": "l6xk9dxlZnBP"
      },
      "outputs": [],
      "source": [
        "import pandas as pd\n",
        "\n",
        "kepler = pd.read_csv(\"https://raw.githubusercontent.com/HiramZ04/NASA-SPACE-APPS-HACKATOON-2025/refs/heads/main/Kepler_clean%20-%20Hoja%201.csv?token=GHSAT0AAAAAADKHK53MFM366RUDQA5RGQEM2HBXBFA\", decimal=\",\", thousands=\".\")\n",
        "keplerBIN = pd.read_csv(\"https://raw.githubusercontent.com/HiramZ04/NASA-SPACE-APPS-HACKATOON-2025/refs/heads/main/Kepler_cleanBIN%20-%20Hoja%201.csv?token=GHSAT0AAAAAADKHK53N57HLZEMYHIPZWL6U2HBXAQQ\", decimal=\",\", thousands=\".\")"
      ]
    },
    {
      "cell_type": "code",
      "source": [
        "print(kepler.head(5))"
      ],
      "metadata": {
        "colab": {
          "base_uri": "https://localhost:8080/"
        },
        "id": "X8TqPuGYymR8",
        "outputId": "c74bbd57-ded5-40c5-f842-e28b69cdbf95"
      },
      "execution_count": 144,
      "outputs": [
        {
          "output_type": "stream",
          "name": "stdout",
          "text": [
            "    koi_period  koi_duration    koi_depth  koi_model_snr  koi_impact  \\\n",
            "0   9488035570        295750    6158000.0         3580.0      1460.0   \n",
            "1  54418382700        450700    8748000.0         7630.0      5860.0   \n",
            "2  19899139950        178220  108290000.0            NaN      9690.0   \n",
            "3   1736952453        240641   80792000.0        50560.0    314110.0   \n",
            "4   2525591777        165450    6033000.0         4090.0      7010.0   \n",
            "\n",
            "   koi_time0bk  koi_steff  koi_slogg  koi_srad  koi_smet  koi_kepmag  \\\n",
            "0   1705387500   545500.0     4467.0    9270.0    1400.0     15347.0   \n",
            "1   1625138400   545500.0     4467.0    9270.0    1400.0     15347.0   \n",
            "2   1758502520   585300.0     4544.0    8680.0   -1800.0     15436.0   \n",
            "3   1703075650   580500.0     4564.0    7910.0   -5200.0     15597.0   \n",
            "4   1715955500   603100.0     4438.0 -525947.0     700.0     15509.0   \n",
            "\n",
            "     duty_cycle      rp_rs koi_disposition  \n",
            "0  1.298785e-06   2.481532       CONFIRMED  \n",
            "1  3.450887e-07   2.957702       CONFIRMED  \n",
            "2  3.731736e-07  10.406248       CANDIDATE  \n",
            "3  5.772587e-06   8.988437  FALSE POSITIVE  \n",
            "4  2.729558e-06   2.456217       CONFIRMED  \n"
          ]
        }
      ]
    },
    {
      "cell_type": "code",
      "source": [
        "keplerclean = pd.DataFrame(kepler)\n",
        "keplerbin = pd.DataFrame(keplerBIN)\n"
      ],
      "metadata": {
        "id": "KOamQQlz2kpn"
      },
      "execution_count": 152,
      "outputs": []
    },
    {
      "cell_type": "code",
      "source": [
        "print(keplerclean.isnull().sum())\n",
        "print(keplerbin.isnull().sum())\n"
      ],
      "metadata": {
        "colab": {
          "base_uri": "https://localhost:8080/"
        },
        "id": "1KupoHTKH8K9",
        "outputId": "a9bb3004-ca63-43f0-fcc5-558ac91dddd2"
      },
      "execution_count": 153,
      "outputs": [
        {
          "output_type": "stream",
          "name": "stdout",
          "text": [
            "koi_period           0\n",
            "koi_duration         0\n",
            "koi_depth          363\n",
            "koi_model_snr      364\n",
            "koi_impact         363\n",
            "koi_time0bk          0\n",
            "koi_steff          363\n",
            "koi_slogg          363\n",
            "koi_srad           363\n",
            "koi_smet           386\n",
            "koi_kepmag           1\n",
            "duty_cycle           0\n",
            "rp_rs                0\n",
            "koi_disposition      0\n",
            "dtype: int64\n",
            "koi_period           0\n",
            "koi_duration         0\n",
            "koi_depth          259\n",
            "koi_model_snr      259\n",
            "koi_impact         259\n",
            "koi_time0bk          0\n",
            "koi_steff          259\n",
            "koi_slogg          259\n",
            "koi_srad           259\n",
            "koi_smet           279\n",
            "koi_kepmag           1\n",
            "duty_cycle           0\n",
            "rp_rs                0\n",
            "koi_disposition      0\n",
            "dtype: int64\n"
          ]
        }
      ]
    },
    {
      "cell_type": "code",
      "source": [
        "#dropNaN\n",
        "keplerbin = keplerbin.dropna()\n",
        "keplerclean = keplerclean.dropna()\n"
      ],
      "metadata": {
        "id": "h-lYisU2QRBj"
      },
      "execution_count": 154,
      "outputs": []
    },
    {
      "cell_type": "code",
      "source": [
        "print(keplerclean.isnull().sum())\n",
        "print(keplerbin.isnull().sum())"
      ],
      "metadata": {
        "colab": {
          "base_uri": "https://localhost:8080/"
        },
        "id": "XapE9nM-VCbI",
        "outputId": "64f9c7df-4dd9-48a2-8d8b-a5db80926982"
      },
      "execution_count": 155,
      "outputs": [
        {
          "output_type": "stream",
          "name": "stdout",
          "text": [
            "koi_period         0\n",
            "koi_duration       0\n",
            "koi_depth          0\n",
            "koi_model_snr      0\n",
            "koi_impact         0\n",
            "koi_time0bk        0\n",
            "koi_steff          0\n",
            "koi_slogg          0\n",
            "koi_srad           0\n",
            "koi_smet           0\n",
            "koi_kepmag         0\n",
            "duty_cycle         0\n",
            "rp_rs              0\n",
            "koi_disposition    0\n",
            "dtype: int64\n",
            "koi_period         0\n",
            "koi_duration       0\n",
            "koi_depth          0\n",
            "koi_model_snr      0\n",
            "koi_impact         0\n",
            "koi_time0bk        0\n",
            "koi_steff          0\n",
            "koi_slogg          0\n",
            "koi_srad           0\n",
            "koi_smet           0\n",
            "koi_kepmag         0\n",
            "duty_cycle         0\n",
            "rp_rs              0\n",
            "koi_disposition    0\n",
            "dtype: int64\n"
          ]
        }
      ]
    },
    {
      "cell_type": "code",
      "source": [
        "from sklearn.preprocessing import LabelEncoder\n",
        "target = keplerclean['koi_disposition']\n",
        "targetbin = keplerbin['koi_disposition']\n",
        "\n",
        "le = LabelEncoder()\n",
        "\n",
        "target = le.fit_transform(target)\n",
        "targetbin = le.fit_transform(targetbin)\n",
        "\n",
        "train = keplerclean.drop('koi_disposition', axis=1)\n",
        "trainbin = keplerbin.drop('koi_disposition', axis=1)\n"
      ],
      "metadata": {
        "id": "qS-ySF9yVboL"
      },
      "execution_count": 157,
      "outputs": []
    },
    {
      "cell_type": "code",
      "source": [
        "from sklearn.model_selection import train_test_split\n",
        "from sklearn.linear_model import LogisticRegression\n",
        "\n",
        "xtr, xte, ytr, yte = train_test_split(train, target, test_size=0.2, random_state=42)\n",
        "\n",
        "xtrbin, xtebin, ytrbin, ytebin = train_test_split(trainbin, targetbin, test_size=0.2, random_state=42)"
      ],
      "metadata": {
        "id": "J9iu5CBbWJWJ"
      },
      "execution_count": 158,
      "outputs": []
    },
    {
      "cell_type": "code",
      "source": [
        "print(yte[:5])\n",
        "print(ytebin[:5])"
      ],
      "metadata": {
        "colab": {
          "base_uri": "https://localhost:8080/"
        },
        "id": "Bv81L-eOxBOp",
        "outputId": "52ef1c4f-0d9b-4fc1-ef16-03f107900df8"
      },
      "execution_count": 163,
      "outputs": [
        {
          "output_type": "stream",
          "name": "stdout",
          "text": [
            "[2 0 1 2 2]\n",
            "[1 1 1 0 1]\n"
          ]
        }
      ]
    },
    {
      "cell_type": "markdown",
      "source": [
        "# **Con candidate**"
      ],
      "metadata": {
        "id": "J-mwcFN6vfUQ"
      }
    },
    {
      "cell_type": "code",
      "source": [
        "from sklearn.metrics import (classification_report, confusion_matrix,\n",
        "                             accuracy_score, balanced_accuracy_score, f1_score)\n",
        "import numpy as np\n",
        "import pandas as pd\n",
        "\n",
        "#LOGISTIC REGRESSION\n",
        "\n",
        "LR = LogisticRegression()\n",
        "LR.fit(xtr,ytr)\n",
        "\n",
        "predict = LR.predict(xte)\n",
        "\n",
        "\n",
        "print(\"Logistic Regression: \")\n",
        "print(\"Accuracy:\", accuracy_score(yte, predict))\n",
        "print(\"Balanced accuracy:\", balanced_accuracy_score(yte, predict))\n",
        "print(\"Macro-F1:\", f1_score(yte, predict, average=\"macro\"))\n",
        "print(\"\\n=== Classification report ===\")\n",
        "print(classification_report(yte, predict, digits=3))\n",
        "\n",
        "labels = np.unique(yte)\n",
        "cm = confusion_matrix(yte, predict, labels=labels)\n",
        "print(\"\\nConfusion matrix (rows=verdadero, cols=predicho):\")\n",
        "print(pd.DataFrame(cm, index=labels, columns=labels))\n"
      ],
      "metadata": {
        "colab": {
          "base_uri": "https://localhost:8080/"
        },
        "id": "H3nGsjFWbg-a",
        "outputId": "547f1462-e901-4853-c29a-78785c0a1be4"
      },
      "execution_count": 161,
      "outputs": [
        {
          "output_type": "stream",
          "name": "stdout",
          "text": [
            "Logistic Regression: \n",
            "Accuracy: 0.4613289760348584\n",
            "Balanced accuracy: 0.4019086850794678\n",
            "Macro-F1: 0.3631146197066868\n",
            "\n",
            "=== Classification report ===\n",
            "              precision    recall  f1-score   support\n",
            "\n",
            "           0      0.357     0.040     0.072       376\n",
            "           1      0.374     0.639     0.472       559\n",
            "           2      0.565     0.527     0.546       901\n",
            "\n",
            "    accuracy                          0.461      1836\n",
            "   macro avg      0.432     0.402     0.363      1836\n",
            "weighted avg      0.465     0.461     0.426      1836\n",
            "\n",
            "\n",
            "Confusion matrix (rows=verdadero, cols=predicho):\n",
            "    0    1    2\n",
            "0  15  196  165\n",
            "1   2  357  200\n",
            "2  25  401  475\n"
          ]
        },
        {
          "output_type": "stream",
          "name": "stderr",
          "text": [
            "/usr/local/lib/python3.12/dist-packages/sklearn/linear_model/_logistic.py:465: ConvergenceWarning: lbfgs failed to converge (status=1):\n",
            "STOP: TOTAL NO. OF ITERATIONS REACHED LIMIT.\n",
            "\n",
            "Increase the number of iterations (max_iter) or scale the data as shown in:\n",
            "    https://scikit-learn.org/stable/modules/preprocessing.html\n",
            "Please also refer to the documentation for alternative solver options:\n",
            "    https://scikit-learn.org/stable/modules/linear_model.html#logistic-regression\n",
            "  n_iter_i = _check_optimize_result(\n"
          ]
        }
      ]
    },
    {
      "cell_type": "code",
      "source": [
        "from sklearn.ensemble import GradientBoostingClassifier\n",
        "from sklearn.model_selection import train_test_split\n",
        "from sklearn.preprocessing import LabelEncoder\n",
        "from sklearn.metrics import classification_report\n",
        "\n",
        "# Train GBT classifier\n",
        "gbt = GradientBoostingClassifier()\n",
        "gbt.fit(xtr, ytr)\n",
        "\n",
        "# Evaluate\n",
        "y_pred = gbt.predict(xte)\n",
        "print(classification_report(yte, y_pred, labels=le.transform(le.classes_), target_names=le.classes_))\n",
        "\n",
        "print(accuracy_score(yte, y_pred))"
      ],
      "metadata": {
        "colab": {
          "base_uri": "https://localhost:8080/"
        },
        "id": "5e7uOrUqgTLU",
        "outputId": "35c670d5-5bd9-4d2d-a204-667d4c3ff8d1"
      },
      "execution_count": 167,
      "outputs": [
        {
          "output_type": "stream",
          "name": "stdout",
          "text": [
            "                precision    recall  f1-score   support\n",
            "\n",
            "     CONFIRMED       0.60      0.51      0.55       376\n",
            "FALSE POSITIVE       0.80      0.88      0.84       559\n",
            "\n",
            "     micro avg       0.73      0.73      0.73       935\n",
            "     macro avg       0.70      0.70      0.69       935\n",
            "  weighted avg       0.72      0.73      0.72       935\n",
            "\n",
            "0.7810457516339869\n"
          ]
        }
      ]
    },
    {
      "cell_type": "markdown",
      "source": [
        "# **Sin candidate**"
      ],
      "metadata": {
        "id": "G1muh1UHvhqC"
      }
    },
    {
      "cell_type": "code",
      "source": [
        "from sklearn.metrics import (classification_report, confusion_matrix,\n",
        "                             accuracy_score, balanced_accuracy_score, f1_score)\n",
        "import numpy as np\n",
        "import pandas as pd\n",
        "\n",
        "#LOGISTIC REGRESSION\n",
        "\n",
        "LRBIN = LogisticRegression()\n",
        "LRBIN.fit(xtrbin,ytrbin)\n",
        "\n",
        "predictbin = LRBIN.predict(xtebin)\n",
        "\n",
        "\n",
        "print(\"Logistic Regression: \")\n",
        "print(\"Accuracy:\", accuracy_score(ytebin, predictbin))\n",
        "print(\"Balanced accuracy:\", balanced_accuracy_score(ytebin, predictbin))\n",
        "print(\"Macro-F1:\", f1_score(ytebin, predictbin, average=\"macro\"))\n",
        "print(\"\\n=== Classification report ===\")\n",
        "print(classification_report(ytebin, predictbin, digits=3))\n",
        "\n",
        "labels = np.unique(ytebin)\n",
        "cmbin = confusion_matrix(ytebin, predictbin, labels=labels)\n",
        "print(\"\\nConfusion matrix (rows=verdadero, cols=predicho):\")\n",
        "print(pd.DataFrame(cmbin, index=labels, columns=labels))\n"
      ],
      "metadata": {
        "colab": {
          "base_uri": "https://localhost:8080/"
        },
        "id": "VkQuOYmqv4xJ",
        "outputId": "c4220671-b1e3-4b6a-f0c6-88304ad3a8aa"
      },
      "execution_count": 160,
      "outputs": [
        {
          "output_type": "stream",
          "name": "stdout",
          "text": [
            "Logistic Regression: \n",
            "Accuracy: 0.6522929500342232\n",
            "Balanced accuracy: 0.6312451103113754\n",
            "Macro-F1: 0.6325074272133095\n",
            "\n",
            "=== Classification report ===\n",
            "              precision    recall  f1-score   support\n",
            "\n",
            "           0      0.567     0.528     0.547       581\n",
            "           1      0.702     0.734     0.718       880\n",
            "\n",
            "    accuracy                          0.652      1461\n",
            "   macro avg      0.635     0.631     0.633      1461\n",
            "weighted avg      0.649     0.652     0.650      1461\n",
            "\n",
            "\n",
            "Confusion matrix (rows=verdadero, cols=predicho):\n",
            "     0    1\n",
            "0  307  274\n",
            "1  234  646\n"
          ]
        },
        {
          "output_type": "stream",
          "name": "stderr",
          "text": [
            "/usr/local/lib/python3.12/dist-packages/sklearn/linear_model/_logistic.py:465: ConvergenceWarning: lbfgs failed to converge (status=1):\n",
            "STOP: TOTAL NO. OF ITERATIONS REACHED LIMIT.\n",
            "\n",
            "Increase the number of iterations (max_iter) or scale the data as shown in:\n",
            "    https://scikit-learn.org/stable/modules/preprocessing.html\n",
            "Please also refer to the documentation for alternative solver options:\n",
            "    https://scikit-learn.org/stable/modules/linear_model.html#logistic-regression\n",
            "  n_iter_i = _check_optimize_result(\n"
          ]
        }
      ]
    },
    {
      "cell_type": "code",
      "source": [
        "from sklearn.ensemble import GradientBoostingClassifier\n",
        "from sklearn.model_selection import train_test_split\n",
        "from sklearn.preprocessing import LabelEncoder\n",
        "from sklearn.metrics import classification_report\n",
        "\n",
        "# Train GBT classifier\n",
        "gbtbin = GradientBoostingClassifier()\n",
        "gbtbin.fit(xtrbin, ytrbin)\n",
        "\n",
        "# Evaluate\n",
        "y_predbin = gbtbin.predict(xtebin)\n",
        "print(classification_report(ytebin, y_predbin))\n",
        "\n",
        "print(\"[Train]\")\n",
        "print(classification_report(ytrbin, gbtbin.predict(xtrbin), digits=3))\n",
        "\n",
        "print(\"[Test]\")\n",
        "print(classification_report(ytebin, gbtbin.predict(xtebin), digits=3))\n",
        "\n",
        "print(accuracy_score(ytebin, y_predbin))"
      ],
      "metadata": {
        "colab": {
          "base_uri": "https://localhost:8080/"
        },
        "id": "bzrPZsdswrB4",
        "outputId": "56209306-733b-461d-df7c-53af9ac33cdb"
      },
      "execution_count": 169,
      "outputs": [
        {
          "output_type": "stream",
          "name": "stdout",
          "text": [
            "              precision    recall  f1-score   support\n",
            "\n",
            "           0       0.89      0.91      0.90       581\n",
            "           1       0.94      0.93      0.93       880\n",
            "\n",
            "    accuracy                           0.92      1461\n",
            "   macro avg       0.92      0.92      0.92      1461\n",
            "weighted avg       0.92      0.92      0.92      1461\n",
            "\n",
            "[Train]\n",
            "              precision    recall  f1-score   support\n",
            "\n",
            "           0      0.894     0.922     0.908      2163\n",
            "           1      0.953     0.936     0.944      3681\n",
            "\n",
            "    accuracy                          0.931      5844\n",
            "   macro avg      0.924     0.929     0.926      5844\n",
            "weighted avg      0.931     0.931     0.931      5844\n",
            "\n",
            "[Test]\n",
            "              precision    recall  f1-score   support\n",
            "\n",
            "           0      0.889     0.912     0.901       581\n",
            "           1      0.941     0.925     0.933       880\n",
            "\n",
            "    accuracy                          0.920      1461\n",
            "   macro avg      0.915     0.919     0.917      1461\n",
            "weighted avg      0.920     0.920     0.920      1461\n",
            "\n",
            "0.919917864476386\n"
          ]
        }
      ]
    }
  ]
}